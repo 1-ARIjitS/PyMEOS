{
 "cells": [
  {
   "cell_type": "code",
   "execution_count": 15,
   "outputs": [],
   "source": [
    "import sys\n",
    "\n",
    "import geopandas as gpd\n",
    "import movingpandas as mpd\n",
    "import pandas as pd\n",
    "from movingpandas import Trajectory\n",
    "\n",
    "sys.path.append('/home/diviloper/MobilityDB/PyMEOS/')\n",
    "from pymeos_cffi.functions import meos_initialize\n",
    "from pymeos import TGeogPointSeq, TGeogPointInst\n",
    "\n",
    "meos_initialize()"
   ],
   "metadata": {
    "collapsed": false,
    "pycharm": {
     "name": "#%%\n"
    }
   }
  },
  {
   "cell_type": "code",
   "execution_count": 16,
   "outputs": [],
   "source": [
    "def create_point(row) -> TGeogPointInst:\n",
    "    return TGeogPointInst(string=f\"{row['geometry']}@{row.name}\")\n",
    "\n",
    "\n",
    "def extract_wkt_from_traj(trajectory: Trajectory) -> str:\n",
    "    res = \"[\"\n",
    "    for row in trajectory.df.iloc():\n",
    "        item = row.geometry.wkt + '@' + row.name.__str__()\n",
    "        res += item + ','\n",
    "    res = res[:-1] + ']'\n",
    "    return res\n",
    "\n",
    "\n",
    "def create_sequence(trajectory: Trajectory) -> TGeogPointSeq:\n",
    "    wkt = extract_wkt_from_traj(trajectory)\n",
    "    return TGeogPointSeq(string=wkt)"
   ],
   "metadata": {
    "collapsed": false,
    "pycharm": {
     "name": "#%%\n"
    }
   }
  },
  {
   "cell_type": "markdown",
   "source": [
    "### Read AIS CSV"
   ],
   "metadata": {
    "collapsed": false,
    "pycharm": {
     "name": "#%% md\n"
    }
   }
  },
  {
   "cell_type": "code",
   "execution_count": 17,
   "outputs": [
    {
     "data": {
      "text/plain": "                     t       mmsi  sog                   geometry\n0  2021-01-08 00:00:00  265513270  0.0  POINT (12.27239 57.05900)\n1  2021-01-08 00:00:01  219027804  0.0  POINT (11.86628 55.94244)\n2  2021-01-08 00:00:01  265513270  0.0  POINT (12.27239 57.05900)\n3  2021-01-08 00:00:03  219027804  0.0  POINT (11.86628 55.94244)\n4  2021-01-08 00:00:04  265513270  0.0  POINT (12.27239 57.05900)",
      "text/html": "<div>\n<style scoped>\n    .dataframe tbody tr th:only-of-type {\n        vertical-align: middle;\n    }\n\n    .dataframe tbody tr th {\n        vertical-align: top;\n    }\n\n    .dataframe thead th {\n        text-align: right;\n    }\n</style>\n<table border=\"1\" class=\"dataframe\">\n  <thead>\n    <tr style=\"text-align: right;\">\n      <th></th>\n      <th>t</th>\n      <th>mmsi</th>\n      <th>sog</th>\n      <th>geometry</th>\n    </tr>\n  </thead>\n  <tbody>\n    <tr>\n      <th>0</th>\n      <td>2021-01-08 00:00:00</td>\n      <td>265513270</td>\n      <td>0.0</td>\n      <td>POINT (12.27239 57.05900)</td>\n    </tr>\n    <tr>\n      <th>1</th>\n      <td>2021-01-08 00:00:01</td>\n      <td>219027804</td>\n      <td>0.0</td>\n      <td>POINT (11.86628 55.94244)</td>\n    </tr>\n    <tr>\n      <th>2</th>\n      <td>2021-01-08 00:00:01</td>\n      <td>265513270</td>\n      <td>0.0</td>\n      <td>POINT (12.27239 57.05900)</td>\n    </tr>\n    <tr>\n      <th>3</th>\n      <td>2021-01-08 00:00:03</td>\n      <td>219027804</td>\n      <td>0.0</td>\n      <td>POINT (11.86628 55.94244)</td>\n    </tr>\n    <tr>\n      <th>4</th>\n      <td>2021-01-08 00:00:04</td>\n      <td>265513270</td>\n      <td>0.0</td>\n      <td>POINT (12.27239 57.05900)</td>\n    </tr>\n  </tbody>\n</table>\n</div>"
     },
     "execution_count": 17,
     "metadata": {},
     "output_type": "execute_result"
    }
   ],
   "source": [
    "pdf = pd.read_csv('./aisinput.csv')\n",
    "gdf = gpd.GeoDataFrame(pdf.drop(['latitude', 'longitude'], axis=1),\n",
    "                       geometry=gpd.points_from_xy(pdf.longitude, pdf.latitude))\n",
    "gdf.head()"
   ],
   "metadata": {
    "collapsed": false,
    "pycharm": {
     "name": "#%%\n"
    }
   }
  },
  {
   "cell_type": "code",
   "execution_count": 28,
   "outputs": [
    {
     "name": "stderr",
     "output_type": "stream",
     "text": [
      "/home/diviloper/.local/share/virtualenvs/PyMEOS-aif996WK/lib/python3.8/site-packages/movingpandas/trajectory.py:123: MissingCRSWarning: Trajectory generated without CRS. Computations will use Euclideandistances.\n",
      "  warnings.warn(\n",
      "/home/diviloper/.local/share/virtualenvs/PyMEOS-aif996WK/lib/python3.8/site-packages/movingpandas/trajectory.py:123: MissingCRSWarning: Trajectory generated without CRS. Computations will use Euclideandistances.\n",
      "  warnings.warn(\n",
      "/home/diviloper/.local/share/virtualenvs/PyMEOS-aif996WK/lib/python3.8/site-packages/movingpandas/trajectory.py:123: MissingCRSWarning: Trajectory generated without CRS. Computations will use Euclideandistances.\n",
      "  warnings.warn(\n",
      "/home/diviloper/.local/share/virtualenvs/PyMEOS-aif996WK/lib/python3.8/site-packages/movingpandas/trajectory.py:123: MissingCRSWarning: Trajectory generated without CRS. Computations will use Euclideandistances.\n",
      "  warnings.warn(\n",
      "/home/diviloper/.local/share/virtualenvs/PyMEOS-aif996WK/lib/python3.8/site-packages/movingpandas/trajectory.py:123: MissingCRSWarning: Trajectory generated without CRS. Computations will use Euclideandistances.\n",
      "  warnings.warn(\n"
     ]
    }
   ],
   "source": [
    "ships = mpd.TrajectoryCollection(gdf, 'mmsi', t='t')"
   ],
   "metadata": {
    "collapsed": false,
    "pycharm": {
     "name": "#%%\n"
    }
   }
  },
  {
   "cell_type": "code",
   "execution_count": 33,
   "outputs": [
    {
     "data": {
      "text/plain": "                          mmsi  sog                  geometry\nt                                                            \n2021-01-08 00:00:05  219001559  0.1  POINT (9.97551 57.59224)\n2021-01-08 00:00:11  219001559  0.1  POINT (9.97551 57.59226)\n2021-01-08 00:00:18  219001559  0.1  POINT (9.97550 57.59226)\n2021-01-08 00:00:24  219001559  0.1  POINT (9.97550 57.59226)\n2021-01-08 00:00:31  219001559  0.1  POINT (9.97549 57.59225)",
      "text/html": "<div>\n<style scoped>\n    .dataframe tbody tr th:only-of-type {\n        vertical-align: middle;\n    }\n\n    .dataframe tbody tr th {\n        vertical-align: top;\n    }\n\n    .dataframe thead th {\n        text-align: right;\n    }\n</style>\n<table border=\"1\" class=\"dataframe\">\n  <thead>\n    <tr style=\"text-align: right;\">\n      <th></th>\n      <th>mmsi</th>\n      <th>sog</th>\n      <th>geometry</th>\n    </tr>\n    <tr>\n      <th>t</th>\n      <th></th>\n      <th></th>\n      <th></th>\n    </tr>\n  </thead>\n  <tbody>\n    <tr>\n      <th>2021-01-08 00:00:05</th>\n      <td>219001559</td>\n      <td>0.1</td>\n      <td>POINT (9.97551 57.59224)</td>\n    </tr>\n    <tr>\n      <th>2021-01-08 00:00:11</th>\n      <td>219001559</td>\n      <td>0.1</td>\n      <td>POINT (9.97551 57.59226)</td>\n    </tr>\n    <tr>\n      <th>2021-01-08 00:00:18</th>\n      <td>219001559</td>\n      <td>0.1</td>\n      <td>POINT (9.97550 57.59226)</td>\n    </tr>\n    <tr>\n      <th>2021-01-08 00:00:24</th>\n      <td>219001559</td>\n      <td>0.1</td>\n      <td>POINT (9.97550 57.59226)</td>\n    </tr>\n    <tr>\n      <th>2021-01-08 00:00:31</th>\n      <td>219001559</td>\n      <td>0.1</td>\n      <td>POINT (9.97549 57.59225)</td>\n    </tr>\n  </tbody>\n</table>\n</div>"
     },
     "execution_count": 33,
     "metadata": {},
     "output_type": "execute_result"
    }
   ],
   "source": [
    "ship = ships.trajectories[0]\n",
    "ship.df.head()"
   ],
   "metadata": {
    "collapsed": false,
    "pycharm": {
     "name": "#%%\n"
    }
   }
  },
  {
   "cell_type": "code",
   "execution_count": 34,
   "outputs": [
    {
     "data": {
      "text/plain": "                          mmsi  sog                  geometry  \\\nt                                                               \n2021-01-08 00:00:05  219001559  0.1  POINT (9.97551 57.59224)   \n2021-01-08 00:00:11  219001559  0.1  POINT (9.97551 57.59226)   \n2021-01-08 00:00:18  219001559  0.1  POINT (9.97550 57.59226)   \n2021-01-08 00:00:24  219001559  0.1  POINT (9.97550 57.59226)   \n2021-01-08 00:00:31  219001559  0.1  POINT (9.97549 57.59225)   \n\n                                                     MEOS Point  \nt                                                                \n2021-01-08 00:00:05  POINT(9.976 57.592)@2021-01-08 00:00:05+01  \n2021-01-08 00:00:11  POINT(9.976 57.592)@2021-01-08 00:00:11+01  \n2021-01-08 00:00:18  POINT(9.976 57.592)@2021-01-08 00:00:18+01  \n2021-01-08 00:00:24  POINT(9.976 57.592)@2021-01-08 00:00:24+01  \n2021-01-08 00:00:31  POINT(9.975 57.592)@2021-01-08 00:00:31+01  ",
      "text/html": "<div>\n<style scoped>\n    .dataframe tbody tr th:only-of-type {\n        vertical-align: middle;\n    }\n\n    .dataframe tbody tr th {\n        vertical-align: top;\n    }\n\n    .dataframe thead th {\n        text-align: right;\n    }\n</style>\n<table border=\"1\" class=\"dataframe\">\n  <thead>\n    <tr style=\"text-align: right;\">\n      <th></th>\n      <th>mmsi</th>\n      <th>sog</th>\n      <th>geometry</th>\n      <th>MEOS Point</th>\n    </tr>\n    <tr>\n      <th>t</th>\n      <th></th>\n      <th></th>\n      <th></th>\n      <th></th>\n    </tr>\n  </thead>\n  <tbody>\n    <tr>\n      <th>2021-01-08 00:00:05</th>\n      <td>219001559</td>\n      <td>0.1</td>\n      <td>POINT (9.97551 57.59224)</td>\n      <td>POINT(9.976 57.592)@2021-01-08 00:00:05+01</td>\n    </tr>\n    <tr>\n      <th>2021-01-08 00:00:11</th>\n      <td>219001559</td>\n      <td>0.1</td>\n      <td>POINT (9.97551 57.59226)</td>\n      <td>POINT(9.976 57.592)@2021-01-08 00:00:11+01</td>\n    </tr>\n    <tr>\n      <th>2021-01-08 00:00:18</th>\n      <td>219001559</td>\n      <td>0.1</td>\n      <td>POINT (9.97550 57.59226)</td>\n      <td>POINT(9.976 57.592)@2021-01-08 00:00:18+01</td>\n    </tr>\n    <tr>\n      <th>2021-01-08 00:00:24</th>\n      <td>219001559</td>\n      <td>0.1</td>\n      <td>POINT (9.97550 57.59226)</td>\n      <td>POINT(9.976 57.592)@2021-01-08 00:00:24+01</td>\n    </tr>\n    <tr>\n      <th>2021-01-08 00:00:31</th>\n      <td>219001559</td>\n      <td>0.1</td>\n      <td>POINT (9.97549 57.59225)</td>\n      <td>POINT(9.975 57.592)@2021-01-08 00:00:31+01</td>\n    </tr>\n  </tbody>\n</table>\n</div>"
     },
     "execution_count": 34,
     "metadata": {},
     "output_type": "execute_result"
    }
   ],
   "source": [
    "ship.df['MEOS Point'] = ship.df.apply(create_point, axis=1)\n",
    "ship.df.head()"
   ],
   "metadata": {
    "collapsed": false,
    "pycharm": {
     "name": "#%%\n"
    }
   }
  },
  {
   "cell_type": "code",
   "execution_count": 35,
   "outputs": [],
   "source": [
    "ship.add_speed(overwrite=True)"
   ],
   "metadata": {
    "collapsed": false,
    "pycharm": {
     "name": "#%%\n"
    }
   }
  },
  {
   "cell_type": "code",
   "execution_count": 36,
   "outputs": [
    {
     "data": {
      "text/plain": "0.16303366821181925"
     },
     "execution_count": 36,
     "metadata": {},
     "output_type": "execute_result"
    }
   ],
   "source": [
    "ship.add_distance(overwrite=True)\n",
    "sum(ship.df[ship.distance_col_name])"
   ],
   "metadata": {
    "collapsed": false,
    "pycharm": {
     "name": "#%%\n"
    }
   }
  },
  {
   "cell_type": "code",
   "execution_count": 37,
   "outputs": [
    {
     "data": {
      "text/plain": "5202.381848699494"
     },
     "execution_count": 37,
     "metadata": {},
     "output_type": "execute_result"
    }
   ],
   "source": [
    "sequence = create_sequence(ship)\n",
    "sequence.distance"
   ],
   "metadata": {
    "collapsed": false,
    "pycharm": {
     "name": "#%%\n"
    }
   }
  },
  {
   "cell_type": "code",
   "execution_count": 32,
   "outputs": [
    {
     "data": {
      "text/plain": "                          mmsi  sog                   geometry  \\\nt                                                                \n2021-01-08 00:00:01  219027804  0.0  POINT (11.86628 55.94244)   \n2021-01-08 00:00:03  219027804  0.0  POINT (11.86628 55.94244)   \n2021-01-08 00:00:05  219027804  0.0  POINT (11.86628 55.94244)   \n2021-01-08 00:00:07  219027804  0.0  POINT (11.86628 55.94244)   \n2021-01-08 00:00:09  219027804  0.0  POINT (11.86628 55.94244)   \n...                        ...  ...                        ...   \n2021-01-08 23:59:48  219027804  0.0  POINT (11.86628 55.94246)   \n2021-01-08 23:59:51  219027804  0.0  POINT (11.86628 55.94246)   \n2021-01-08 23:59:53  219027804  0.0  POINT (11.86628 55.94246)   \n2021-01-08 23:59:55  219027804  0.0  POINT (11.86628 55.94246)   \n2021-01-08 23:59:56  219027804  0.0  POINT (11.86628 55.94246)   \n\n                                                      MEOS Point     speed  \\\nt                                                                            \n2021-01-08 00:00:01  POINT(11.866 55.942)@2021-01-08 00:00:01+01  0.000000   \n2021-01-08 00:00:03  POINT(11.866 55.942)@2021-01-08 00:00:03+01  0.000000   \n2021-01-08 00:00:05  POINT(11.866 55.942)@2021-01-08 00:00:05+01  0.000000   \n2021-01-08 00:00:07  POINT(11.866 55.942)@2021-01-08 00:00:07+01  0.000001   \n2021-01-08 00:00:09  POINT(11.866 55.942)@2021-01-08 00:00:09+01  0.000000   \n...                                                          ...       ...   \n2021-01-08 23:59:48  POINT(11.866 55.942)@2021-01-08 23:59:48+01  0.000000   \n2021-01-08 23:59:51  POINT(11.866 55.942)@2021-01-08 23:59:51+01  0.000000   \n2021-01-08 23:59:53  POINT(11.866 55.942)@2021-01-08 23:59:53+01  0.000000   \n2021-01-08 23:59:55  POINT(11.866 55.942)@2021-01-08 23:59:55+01  0.000000   \n2021-01-08 23:59:56  POINT(11.866 55.942)@2021-01-08 23:59:56+01  0.000002   \n\n                     distance  \nt                              \n2021-01-08 00:00:01  0.000000  \n2021-01-08 00:00:03  0.000000  \n2021-01-08 00:00:05  0.000000  \n2021-01-08 00:00:07  0.000002  \n2021-01-08 00:00:09  0.000000  \n...                       ...  \n2021-01-08 23:59:48  0.000000  \n2021-01-08 23:59:51  0.000000  \n2021-01-08 23:59:53  0.000000  \n2021-01-08 23:59:55  0.000000  \n2021-01-08 23:59:56  0.000002  \n\n[38326 rows x 6 columns]",
      "text/html": "<div>\n<style scoped>\n    .dataframe tbody tr th:only-of-type {\n        vertical-align: middle;\n    }\n\n    .dataframe tbody tr th {\n        vertical-align: top;\n    }\n\n    .dataframe thead th {\n        text-align: right;\n    }\n</style>\n<table border=\"1\" class=\"dataframe\">\n  <thead>\n    <tr style=\"text-align: right;\">\n      <th></th>\n      <th>mmsi</th>\n      <th>sog</th>\n      <th>geometry</th>\n      <th>MEOS Point</th>\n      <th>speed</th>\n      <th>distance</th>\n    </tr>\n    <tr>\n      <th>t</th>\n      <th></th>\n      <th></th>\n      <th></th>\n      <th></th>\n      <th></th>\n      <th></th>\n    </tr>\n  </thead>\n  <tbody>\n    <tr>\n      <th>2021-01-08 00:00:01</th>\n      <td>219027804</td>\n      <td>0.0</td>\n      <td>POINT (11.86628 55.94244)</td>\n      <td>POINT(11.866 55.942)@2021-01-08 00:00:01+01</td>\n      <td>0.000000</td>\n      <td>0.000000</td>\n    </tr>\n    <tr>\n      <th>2021-01-08 00:00:03</th>\n      <td>219027804</td>\n      <td>0.0</td>\n      <td>POINT (11.86628 55.94244)</td>\n      <td>POINT(11.866 55.942)@2021-01-08 00:00:03+01</td>\n      <td>0.000000</td>\n      <td>0.000000</td>\n    </tr>\n    <tr>\n      <th>2021-01-08 00:00:05</th>\n      <td>219027804</td>\n      <td>0.0</td>\n      <td>POINT (11.86628 55.94244)</td>\n      <td>POINT(11.866 55.942)@2021-01-08 00:00:05+01</td>\n      <td>0.000000</td>\n      <td>0.000000</td>\n    </tr>\n    <tr>\n      <th>2021-01-08 00:00:07</th>\n      <td>219027804</td>\n      <td>0.0</td>\n      <td>POINT (11.86628 55.94244)</td>\n      <td>POINT(11.866 55.942)@2021-01-08 00:00:07+01</td>\n      <td>0.000001</td>\n      <td>0.000002</td>\n    </tr>\n    <tr>\n      <th>2021-01-08 00:00:09</th>\n      <td>219027804</td>\n      <td>0.0</td>\n      <td>POINT (11.86628 55.94244)</td>\n      <td>POINT(11.866 55.942)@2021-01-08 00:00:09+01</td>\n      <td>0.000000</td>\n      <td>0.000000</td>\n    </tr>\n    <tr>\n      <th>...</th>\n      <td>...</td>\n      <td>...</td>\n      <td>...</td>\n      <td>...</td>\n      <td>...</td>\n      <td>...</td>\n    </tr>\n    <tr>\n      <th>2021-01-08 23:59:48</th>\n      <td>219027804</td>\n      <td>0.0</td>\n      <td>POINT (11.86628 55.94246)</td>\n      <td>POINT(11.866 55.942)@2021-01-08 23:59:48+01</td>\n      <td>0.000000</td>\n      <td>0.000000</td>\n    </tr>\n    <tr>\n      <th>2021-01-08 23:59:51</th>\n      <td>219027804</td>\n      <td>0.0</td>\n      <td>POINT (11.86628 55.94246)</td>\n      <td>POINT(11.866 55.942)@2021-01-08 23:59:51+01</td>\n      <td>0.000000</td>\n      <td>0.000000</td>\n    </tr>\n    <tr>\n      <th>2021-01-08 23:59:53</th>\n      <td>219027804</td>\n      <td>0.0</td>\n      <td>POINT (11.86628 55.94246)</td>\n      <td>POINT(11.866 55.942)@2021-01-08 23:59:53+01</td>\n      <td>0.000000</td>\n      <td>0.000000</td>\n    </tr>\n    <tr>\n      <th>2021-01-08 23:59:55</th>\n      <td>219027804</td>\n      <td>0.0</td>\n      <td>POINT (11.86628 55.94246)</td>\n      <td>POINT(11.866 55.942)@2021-01-08 23:59:55+01</td>\n      <td>0.000000</td>\n      <td>0.000000</td>\n    </tr>\n    <tr>\n      <th>2021-01-08 23:59:56</th>\n      <td>219027804</td>\n      <td>0.0</td>\n      <td>POINT (11.86628 55.94246)</td>\n      <td>POINT(11.866 55.942)@2021-01-08 23:59:56+01</td>\n      <td>0.000002</td>\n      <td>0.000002</td>\n    </tr>\n  </tbody>\n</table>\n<p>38326 rows × 6 columns</p>\n</div>"
     },
     "execution_count": 32,
     "metadata": {},
     "output_type": "execute_result"
    }
   ],
   "source": [
    "ship.df"
   ],
   "metadata": {
    "collapsed": false,
    "pycharm": {
     "name": "#%%\n"
    }
   }
  }
 ],
 "metadata": {
  "kernelspec": {
   "display_name": "Python 3",
   "language": "python",
   "name": "python3"
  },
  "language_info": {
   "codemirror_mode": {
    "name": "ipython",
    "version": 2
   },
   "file_extension": ".py",
   "mimetype": "text/x-python",
   "name": "python",
   "nbconvert_exporter": "python",
   "pygments_lexer": "ipython2",
   "version": "2.7.6"
  }
 },
 "nbformat": 4,
 "nbformat_minor": 0
}