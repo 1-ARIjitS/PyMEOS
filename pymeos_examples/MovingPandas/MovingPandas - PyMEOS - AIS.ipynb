{
 "cells": [
  {
   "cell_type": "code",
   "execution_count": 12,
   "outputs": [],
   "source": [
    "import sys\n",
    "\n",
    "import geopandas as gpd\n",
    "import movingpandas as mpd\n",
    "import pandas as pd\n",
    "from movingpandas import Trajectory\n",
    "\n",
    "sys.path.append('/home/diviloper/MobilityDB/PyMEOS/')\n",
    "from pymeos_cffi.functions import meos_initialize\n",
    "from pymeos import TGeogPointSeq, TGeogPointInst, TGeomPointInst, TGeomPointSeq, TPointSeq, TPointInst\n",
    "plot_defaults = {'linewidth': 5, 'capstyle': 'round', 'figsize': (9, 3), 'legend': True}\n",
    "\n",
    "meos_initialize()"
   ],
   "metadata": {
    "collapsed": false,
    "pycharm": {
     "name": "#%%\n"
    }
   }
  },
  {
   "cell_type": "code",
   "execution_count": 13,
   "outputs": [],
   "source": [
    "def create_point(row) -> TPointInst:\n",
    "    return TGeogPointInst(string=f\"{row['geometry']}@{row.name}\")\n",
    "\n",
    "\n",
    "def extract_wkt_from_traj(trajectory: Trajectory) -> str:\n",
    "    res = \"[\"\n",
    "    for row in trajectory.df.iloc():\n",
    "        res += f'{row.geometry.wkt}@{row.name},'\n",
    "    res = res[:-1] + ']'\n",
    "    return res\n",
    "\n",
    "\n",
    "def create_sequence(trajectory: Trajectory) -> TPointSeq:\n",
    "    wkt = extract_wkt_from_traj(trajectory)\n",
    "    return TGeogPointSeq(string=wkt)"
   ],
   "metadata": {
    "collapsed": false,
    "pycharm": {
     "name": "#%%\n"
    }
   }
  },
  {
   "cell_type": "markdown",
   "source": [
    "### Read AIS CSV"
   ],
   "metadata": {
    "collapsed": false,
    "pycharm": {
     "name": "#%% md\n"
    }
   }
  },
  {
   "cell_type": "code",
   "execution_count": 14,
   "outputs": [
    {
     "data": {
      "text/plain": "                     t       mmsi  sog                   geometry\n0  2021-01-08 00:00:00  265513270  0.0  POINT (12.27239 57.05900)\n1  2021-01-08 00:00:01  219027804  0.0  POINT (11.86628 55.94244)\n2  2021-01-08 00:00:01  265513270  0.0  POINT (12.27239 57.05900)\n3  2021-01-08 00:00:03  219027804  0.0  POINT (11.86628 55.94244)\n4  2021-01-08 00:00:04  265513270  0.0  POINT (12.27239 57.05900)",
      "text/html": "<div>\n<style scoped>\n    .dataframe tbody tr th:only-of-type {\n        vertical-align: middle;\n    }\n\n    .dataframe tbody tr th {\n        vertical-align: top;\n    }\n\n    .dataframe thead th {\n        text-align: right;\n    }\n</style>\n<table border=\"1\" class=\"dataframe\">\n  <thead>\n    <tr style=\"text-align: right;\">\n      <th></th>\n      <th>t</th>\n      <th>mmsi</th>\n      <th>sog</th>\n      <th>geometry</th>\n    </tr>\n  </thead>\n  <tbody>\n    <tr>\n      <th>0</th>\n      <td>2021-01-08 00:00:00</td>\n      <td>265513270</td>\n      <td>0.0</td>\n      <td>POINT (12.27239 57.05900)</td>\n    </tr>\n    <tr>\n      <th>1</th>\n      <td>2021-01-08 00:00:01</td>\n      <td>219027804</td>\n      <td>0.0</td>\n      <td>POINT (11.86628 55.94244)</td>\n    </tr>\n    <tr>\n      <th>2</th>\n      <td>2021-01-08 00:00:01</td>\n      <td>265513270</td>\n      <td>0.0</td>\n      <td>POINT (12.27239 57.05900)</td>\n    </tr>\n    <tr>\n      <th>3</th>\n      <td>2021-01-08 00:00:03</td>\n      <td>219027804</td>\n      <td>0.0</td>\n      <td>POINT (11.86628 55.94244)</td>\n    </tr>\n    <tr>\n      <th>4</th>\n      <td>2021-01-08 00:00:04</td>\n      <td>265513270</td>\n      <td>0.0</td>\n      <td>POINT (12.27239 57.05900)</td>\n    </tr>\n  </tbody>\n</table>\n</div>"
     },
     "execution_count": 14,
     "metadata": {},
     "output_type": "execute_result"
    }
   ],
   "source": [
    "pdf = pd.read_csv('./aisinput.csv')\n",
    "gdf = gpd.GeoDataFrame(pdf.drop(['latitude', 'longitude'], axis=1),\n",
    "                       geometry=gpd.points_from_xy(pdf.longitude, pdf.latitude), crs=4326)\n",
    "gdf.head()"
   ],
   "metadata": {
    "collapsed": false,
    "pycharm": {
     "name": "#%%\n"
    }
   }
  },
  {
   "cell_type": "code",
   "execution_count": 15,
   "outputs": [],
   "source": [
    "ships = mpd.TrajectoryCollection(gdf, 'mmsi', t='t')"
   ],
   "metadata": {
    "collapsed": false,
    "pycharm": {
     "name": "#%%\n"
    }
   }
  },
  {
   "cell_type": "code",
   "execution_count": 28,
   "outputs": [
    {
     "data": {
      "text/plain": "                          mmsi  sog                   geometry\nt                                                             \n2021-01-08 00:00:01  219027804  0.0  POINT (11.86628 55.94244)\n2021-01-08 00:00:03  219027804  0.0  POINT (11.86628 55.94244)\n2021-01-08 00:00:05  219027804  0.0  POINT (11.86628 55.94244)\n2021-01-08 00:00:07  219027804  0.0  POINT (11.86628 55.94244)\n2021-01-08 00:00:09  219027804  0.0  POINT (11.86628 55.94244)",
      "text/html": "<div>\n<style scoped>\n    .dataframe tbody tr th:only-of-type {\n        vertical-align: middle;\n    }\n\n    .dataframe tbody tr th {\n        vertical-align: top;\n    }\n\n    .dataframe thead th {\n        text-align: right;\n    }\n</style>\n<table border=\"1\" class=\"dataframe\">\n  <thead>\n    <tr style=\"text-align: right;\">\n      <th></th>\n      <th>mmsi</th>\n      <th>sog</th>\n      <th>geometry</th>\n    </tr>\n    <tr>\n      <th>t</th>\n      <th></th>\n      <th></th>\n      <th></th>\n    </tr>\n  </thead>\n  <tbody>\n    <tr>\n      <th>2021-01-08 00:00:01</th>\n      <td>219027804</td>\n      <td>0.0</td>\n      <td>POINT (11.86628 55.94244)</td>\n    </tr>\n    <tr>\n      <th>2021-01-08 00:00:03</th>\n      <td>219027804</td>\n      <td>0.0</td>\n      <td>POINT (11.86628 55.94244)</td>\n    </tr>\n    <tr>\n      <th>2021-01-08 00:00:05</th>\n      <td>219027804</td>\n      <td>0.0</td>\n      <td>POINT (11.86628 55.94244)</td>\n    </tr>\n    <tr>\n      <th>2021-01-08 00:00:07</th>\n      <td>219027804</td>\n      <td>0.0</td>\n      <td>POINT (11.86628 55.94244)</td>\n    </tr>\n    <tr>\n      <th>2021-01-08 00:00:09</th>\n      <td>219027804</td>\n      <td>0.0</td>\n      <td>POINT (11.86628 55.94244)</td>\n    </tr>\n  </tbody>\n</table>\n</div>"
     },
     "execution_count": 28,
     "metadata": {},
     "output_type": "execute_result"
    }
   ],
   "source": [
    "ship = ships.trajectories[1]\n",
    "ship.df.head()"
   ],
   "metadata": {
    "collapsed": false,
    "pycharm": {
     "name": "#%%\n"
    }
   }
  },
  {
   "cell_type": "code",
   "execution_count": 29,
   "outputs": [
    {
     "name": "stderr",
     "output_type": "stream",
     "text": [
      "/home/diviloper/.local/share/virtualenvs/PyMEOS-aif996WK/lib/python3.8/site-packages/pandas/core/dtypes/cast.py:122: ShapelyDeprecationWarning: The array interface is deprecated and will no longer work in Shapely 2.0. Convert the '.coords' to a numpy array instead.\n",
      "  arr = construct_1d_object_array_from_listlike(values)\n"
     ]
    },
    {
     "data": {
      "text/plain": "<AxesSubplot:>"
     },
     "execution_count": 29,
     "metadata": {},
     "output_type": "execute_result"
    },
    {
     "data": {
      "text/plain": "<Figure size 648x216 with 2 Axes>",
      "image/png": "[encoded data removed]"
     },
     "metadata": {
      "needs_background": "light"
     },
     "output_type": "display_data"
    }
   ],
   "source": [
    "ship.plot(column='speed', vmax=20, **plot_defaults)"
   ],
   "metadata": {
    "collapsed": false,
    "pycharm": {
     "name": "#%%\n"
    }
   }
  },
  {
   "cell_type": "code",
   "execution_count": 30,
   "outputs": [
    {
     "data": {
      "text/plain": "                          mmsi  sog                   geometry  \\\nt                                                                \n2021-01-08 00:00:01  219027804  0.0  POINT (11.86628 55.94244)   \n2021-01-08 00:00:03  219027804  0.0  POINT (11.86628 55.94244)   \n2021-01-08 00:00:05  219027804  0.0  POINT (11.86628 55.94244)   \n2021-01-08 00:00:07  219027804  0.0  POINT (11.86628 55.94244)   \n2021-01-08 00:00:09  219027804  0.0  POINT (11.86628 55.94244)   \n\n                                                      MEOS Point  \nt                                                                 \n2021-01-08 00:00:01  POINT(11.866 55.942)@2021-01-08 00:00:01+01  \n2021-01-08 00:00:03  POINT(11.866 55.942)@2021-01-08 00:00:03+01  \n2021-01-08 00:00:05  POINT(11.866 55.942)@2021-01-08 00:00:05+01  \n2021-01-08 00:00:07  POINT(11.866 55.942)@2021-01-08 00:00:07+01  \n2021-01-08 00:00:09  POINT(11.866 55.942)@2021-01-08 00:00:09+01  ",
      "text/html": "<div>\n<style scoped>\n    .dataframe tbody tr th:only-of-type {\n        vertical-align: middle;\n    }\n\n    .dataframe tbody tr th {\n        vertical-align: top;\n    }\n\n    .dataframe thead th {\n        text-align: right;\n    }\n</style>\n<table border=\"1\" class=\"dataframe\">\n  <thead>\n    <tr style=\"text-align: right;\">\n      <th></th>\n      <th>mmsi</th>\n      <th>sog</th>\n      <th>geometry</th>\n      <th>MEOS Point</th>\n    </tr>\n    <tr>\n      <th>t</th>\n      <th></th>\n      <th></th>\n      <th></th>\n      <th></th>\n    </tr>\n  </thead>\n  <tbody>\n    <tr>\n      <th>2021-01-08 00:00:01</th>\n      <td>219027804</td>\n      <td>0.0</td>\n      <td>POINT (11.86628 55.94244)</td>\n      <td>POINT(11.866 55.942)@2021-01-08 00:00:01+01</td>\n    </tr>\n    <tr>\n      <th>2021-01-08 00:00:03</th>\n      <td>219027804</td>\n      <td>0.0</td>\n      <td>POINT (11.86628 55.94244)</td>\n      <td>POINT(11.866 55.942)@2021-01-08 00:00:03+01</td>\n    </tr>\n    <tr>\n      <th>2021-01-08 00:00:05</th>\n      <td>219027804</td>\n      <td>0.0</td>\n      <td>POINT (11.86628 55.94244)</td>\n      <td>POINT(11.866 55.942)@2021-01-08 00:00:05+01</td>\n    </tr>\n    <tr>\n      <th>2021-01-08 00:00:07</th>\n      <td>219027804</td>\n      <td>0.0</td>\n      <td>POINT (11.86628 55.94244)</td>\n      <td>POINT(11.866 55.942)@2021-01-08 00:00:07+01</td>\n    </tr>\n    <tr>\n      <th>2021-01-08 00:00:09</th>\n      <td>219027804</td>\n      <td>0.0</td>\n      <td>POINT (11.86628 55.94244)</td>\n      <td>POINT(11.866 55.942)@2021-01-08 00:00:09+01</td>\n    </tr>\n  </tbody>\n</table>\n</div>"
     },
     "execution_count": 30,
     "metadata": {},
     "output_type": "execute_result"
    }
   ],
   "source": [
    "ship.df['MEOS Point'] = ship.df.apply(create_point, axis=1)\n",
    "ship.df.head()"
   ],
   "metadata": {
    "collapsed": false,
    "pycharm": {
     "name": "#%%\n"
    }
   }
  },
  {
   "cell_type": "code",
   "execution_count": 31,
   "outputs": [
    {
     "data": {
      "text/plain": "                          mmsi  sog                   geometry  \\\nt                                                                \n2021-01-08 00:00:01  219027804  0.0  POINT (11.86628 55.94244)   \n2021-01-08 00:00:03  219027804  0.0  POINT (11.86628 55.94244)   \n2021-01-08 00:00:05  219027804  0.0  POINT (11.86628 55.94244)   \n2021-01-08 00:00:07  219027804  0.0  POINT (11.86628 55.94244)   \n2021-01-08 00:00:09  219027804  0.0  POINT (11.86628 55.94244)   \n...                        ...  ...                        ...   \n2021-01-08 23:59:48  219027804  0.0  POINT (11.86628 55.94246)   \n2021-01-08 23:59:51  219027804  0.0  POINT (11.86628 55.94246)   \n2021-01-08 23:59:53  219027804  0.0  POINT (11.86628 55.94246)   \n2021-01-08 23:59:55  219027804  0.0  POINT (11.86628 55.94246)   \n2021-01-08 23:59:56  219027804  0.0  POINT (11.86628 55.94246)   \n\n                                                      MEOS Point  \nt                                                                 \n2021-01-08 00:00:01  POINT(11.866 55.942)@2021-01-08 00:00:01+01  \n2021-01-08 00:00:03  POINT(11.866 55.942)@2021-01-08 00:00:03+01  \n2021-01-08 00:00:05  POINT(11.866 55.942)@2021-01-08 00:00:05+01  \n2021-01-08 00:00:07  POINT(11.866 55.942)@2021-01-08 00:00:07+01  \n2021-01-08 00:00:09  POINT(11.866 55.942)@2021-01-08 00:00:09+01  \n...                                                          ...  \n2021-01-08 23:59:48  POINT(11.866 55.942)@2021-01-08 23:59:48+01  \n2021-01-08 23:59:51  POINT(11.866 55.942)@2021-01-08 23:59:51+01  \n2021-01-08 23:59:53  POINT(11.866 55.942)@2021-01-08 23:59:53+01  \n2021-01-08 23:59:55  POINT(11.866 55.942)@2021-01-08 23:59:55+01  \n2021-01-08 23:59:56  POINT(11.866 55.942)@2021-01-08 23:59:56+01  \n\n[38326 rows x 4 columns]",
      "text/html": "<div>\n<style scoped>\n    .dataframe tbody tr th:only-of-type {\n        vertical-align: middle;\n    }\n\n    .dataframe tbody tr th {\n        vertical-align: top;\n    }\n\n    .dataframe thead th {\n        text-align: right;\n    }\n</style>\n<table border=\"1\" class=\"dataframe\">\n  <thead>\n    <tr style=\"text-align: right;\">\n      <th></th>\n      <th>mmsi</th>\n      <th>sog</th>\n      <th>geometry</th>\n      <th>MEOS Point</th>\n    </tr>\n    <tr>\n      <th>t</th>\n      <th></th>\n      <th></th>\n      <th></th>\n      <th></th>\n    </tr>\n  </thead>\n  <tbody>\n    <tr>\n      <th>2021-01-08 00:00:01</th>\n      <td>219027804</td>\n      <td>0.0</td>\n      <td>POINT (11.86628 55.94244)</td>\n      <td>POINT(11.866 55.942)@2021-01-08 00:00:01+01</td>\n    </tr>\n    <tr>\n      <th>2021-01-08 00:00:03</th>\n      <td>219027804</td>\n      <td>0.0</td>\n      <td>POINT (11.86628 55.94244)</td>\n      <td>POINT(11.866 55.942)@2021-01-08 00:00:03+01</td>\n    </tr>\n    <tr>\n      <th>2021-01-08 00:00:05</th>\n      <td>219027804</td>\n      <td>0.0</td>\n      <td>POINT (11.86628 55.94244)</td>\n      <td>POINT(11.866 55.942)@2021-01-08 00:00:05+01</td>\n    </tr>\n    <tr>\n      <th>2021-01-08 00:00:07</th>\n      <td>219027804</td>\n      <td>0.0</td>\n      <td>POINT (11.86628 55.94244)</td>\n      <td>POINT(11.866 55.942)@2021-01-08 00:00:07+01</td>\n    </tr>\n    <tr>\n      <th>2021-01-08 00:00:09</th>\n      <td>219027804</td>\n      <td>0.0</td>\n      <td>POINT (11.86628 55.94244)</td>\n      <td>POINT(11.866 55.942)@2021-01-08 00:00:09+01</td>\n    </tr>\n    <tr>\n      <th>...</th>\n      <td>...</td>\n      <td>...</td>\n      <td>...</td>\n      <td>...</td>\n    </tr>\n    <tr>\n      <th>2021-01-08 23:59:48</th>\n      <td>219027804</td>\n      <td>0.0</td>\n      <td>POINT (11.86628 55.94246)</td>\n      <td>POINT(11.866 55.942)@2021-01-08 23:59:48+01</td>\n    </tr>\n    <tr>\n      <th>2021-01-08 23:59:51</th>\n      <td>219027804</td>\n      <td>0.0</td>\n      <td>POINT (11.86628 55.94246)</td>\n      <td>POINT(11.866 55.942)@2021-01-08 23:59:51+01</td>\n    </tr>\n    <tr>\n      <th>2021-01-08 23:59:53</th>\n      <td>219027804</td>\n      <td>0.0</td>\n      <td>POINT (11.86628 55.94246)</td>\n      <td>POINT(11.866 55.942)@2021-01-08 23:59:53+01</td>\n    </tr>\n    <tr>\n      <th>2021-01-08 23:59:55</th>\n      <td>219027804</td>\n      <td>0.0</td>\n      <td>POINT (11.86628 55.94246)</td>\n      <td>POINT(11.866 55.942)@2021-01-08 23:59:55+01</td>\n    </tr>\n    <tr>\n      <th>2021-01-08 23:59:56</th>\n      <td>219027804</td>\n      <td>0.0</td>\n      <td>POINT (11.86628 55.94246)</td>\n      <td>POINT(11.866 55.942)@2021-01-08 23:59:56+01</td>\n    </tr>\n  </tbody>\n</table>\n<p>38326 rows × 4 columns</p>\n</div>"
     },
     "execution_count": 31,
     "metadata": {},
     "output_type": "execute_result"
    }
   ],
   "source": [
    "ship.df"
   ],
   "metadata": {
    "collapsed": false,
    "pycharm": {
     "name": "#%%\n"
    }
   }
  },
  {
   "cell_type": "code",
   "execution_count": 32,
   "outputs": [],
   "source": [
    "ship.add_speed(overwrite=True)"
   ],
   "metadata": {
    "collapsed": false,
    "pycharm": {
     "name": "#%%\n"
    }
   }
  },
  {
   "cell_type": "code",
   "execution_count": 33,
   "outputs": [
    {
     "data": {
      "text/plain": "67296.62869357805"
     },
     "execution_count": 33,
     "metadata": {},
     "output_type": "execute_result"
    }
   ],
   "source": [
    "ship.add_distance(overwrite=True)\n",
    "sum(ship.df[ship.distance_col_name])"
   ],
   "metadata": {
    "collapsed": false,
    "pycharm": {
     "name": "#%%\n"
    }
   }
  },
  {
   "cell_type": "code",
   "execution_count": 34,
   "outputs": [
    {
     "data": {
      "text/plain": "67296.62869402872"
     },
     "execution_count": 34,
     "metadata": {},
     "output_type": "execute_result"
    }
   ],
   "source": [
    "sequence = TGeogPointSeq(instant_list=list(ship.df['MEOS Point']), normalize=False)\n",
    "sequence.distance"
   ],
   "metadata": {
    "collapsed": false,
    "pycharm": {
     "name": "#%%\n"
    }
   }
  },
  {
   "cell_type": "code",
   "execution_count": 35,
   "outputs": [
    {
     "data": {
      "text/plain": "64865.70416238803"
     },
     "execution_count": 35,
     "metadata": {},
     "output_type": "execute_result"
    }
   ],
   "source": [
    "sequence = TGeogPointSeq(instant_list=list(ship.df['MEOS Point']), normalize=True)\n",
    "sequence.distance"
   ],
   "metadata": {
    "collapsed": false,
    "pycharm": {
     "name": "#%%\n"
    }
   }
  },
  {
   "cell_type": "code",
   "execution_count": 36,
   "outputs": [
    {
     "name": "stderr",
     "output_type": "stream",
     "text": [
      "/home/diviloper/.local/share/virtualenvs/PyMEOS-aif996WK/lib/python3.8/site-packages/pandas/core/dtypes/cast.py:122: ShapelyDeprecationWarning: The array interface is deprecated and will no longer work in Shapely 2.0. Convert the '.coords' to a numpy array instead.\n",
      "  arr = construct_1d_object_array_from_listlike(values)\n"
     ]
    },
    {
     "data": {
      "text/plain": "<AxesSubplot:>"
     },
     "execution_count": 36,
     "metadata": {},
     "output_type": "execute_result"
    },
    {
     "data": {
      "text/plain": "<Figure size 648x216 with 1 Axes>",
      "image/png": "[encoded data removed]"
     },
     "metadata": {
      "needs_background": "light"
     },
     "output_type": "display_data"
    }
   ],
   "source": [
    "ship.plot(vmax=20, **plot_defaults)"
   ],
   "metadata": {
    "collapsed": false,
    "pycharm": {
     "name": "#%%\n"
    }
   }
  },
  {
   "cell_type": "code",
   "execution_count": 37,
   "outputs": [
    {
     "name": "stderr",
     "output_type": "stream",
     "text": [
      "/home/diviloper/.local/share/virtualenvs/PyMEOS-aif996WK/lib/python3.8/site-packages/pandas/core/dtypes/cast.py:122: ShapelyDeprecationWarning: The array interface is deprecated and will no longer work in Shapely 2.0. Convert the '.coords' to a numpy array instead.\n",
      "  arr = construct_1d_object_array_from_listlike(values)\n"
     ]
    },
    {
     "data": {
      "text/plain": "<AxesSubplot:>"
     },
     "execution_count": 37,
     "metadata": {},
     "output_type": "execute_result"
    },
    {
     "data": {
      "text/plain": "<Figure size 648x216 with 1 Axes>",
      "image/png": "[encoded data removed]"
     },
     "metadata": {
      "needs_background": "light"
     },
     "output_type": "display_data"
    }
   ],
   "source": [
    "sequence.to_trajectory().plot(vmax=20, **plot_defaults)"
   ],
   "metadata": {
    "collapsed": false,
    "pycharm": {
     "name": "#%%\n"
    }
   }
  },
  {
   "cell_type": "code",
   "execution_count": 23,
   "outputs": [
    {
     "data": {
      "text/plain": "1597"
     },
     "execution_count": 23,
     "metadata": {},
     "output_type": "execute_result"
    }
   ],
   "source": [
    "sequence.num_instants"
   ],
   "metadata": {
    "collapsed": false,
    "pycharm": {
     "name": "#%%\n"
    }
   }
  },
  {
   "cell_type": "code",
   "execution_count": 24,
   "outputs": [
    {
     "data": {
      "text/plain": "48323"
     },
     "execution_count": 24,
     "metadata": {},
     "output_type": "execute_result"
    }
   ],
   "source": [
    "len(ship.df)"
   ],
   "metadata": {
    "collapsed": false,
    "pycharm": {
     "name": "#%%\n"
    }
   }
  },
  {
   "cell_type": "code",
   "execution_count": 51,
   "outputs": [
    {
     "data": {
      "text/plain": "5202.381848699494"
     },
     "execution_count": 51,
     "metadata": {},
     "output_type": "execute_result"
    }
   ],
   "source": [
    "sequence = create_sequence(ship)\n",
    "sequence.distance"
   ],
   "metadata": {
    "collapsed": false,
    "pycharm": {
     "name": "#%%\n"
    }
   }
  },
  {
   "cell_type": "code",
   "execution_count": 25,
   "outputs": [
    {
     "data": {
      "text/plain": "t\n2021-01-08 00:00:05    0.000000\n2021-01-08 00:00:11    1.671627\n2021-01-08 00:00:18    0.777446\n2021-01-08 00:00:24    0.000000\n2021-01-08 00:00:31    1.011291\n                         ...   \n2021-01-08 23:59:53    0.163430\n2021-01-08 23:59:55    0.000000\n2021-01-08 23:59:56    0.211167\n2021-01-08 23:59:57    0.126411\n2021-01-08 23:59:58    0.339421\nName: distance, Length: 48323, dtype: float64"
     },
     "execution_count": 25,
     "metadata": {},
     "output_type": "execute_result"
    }
   ],
   "source": [
    "ship.df['distance']"
   ],
   "metadata": {
    "collapsed": false,
    "pycharm": {
     "name": "#%%\n"
    }
   }
  }
 ],
 "metadata": {
  "kernelspec": {
   "display_name": "Python 3",
   "language": "python",
   "name": "python3"
  },
  "language_info": {
   "codemirror_mode": {
    "name": "ipython",
    "version": 2
   },
   "file_extension": ".py",
   "mimetype": "text/x-python",
   "name": "python",
   "nbconvert_exporter": "python",
   "pygments_lexer": "ipython2",
   "version": "2.7.6"
  }
 },
 "nbformat": 4,
 "nbformat_minor": 0
}